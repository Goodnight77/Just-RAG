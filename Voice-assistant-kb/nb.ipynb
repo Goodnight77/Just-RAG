{
 "cells": [
  {
   "cell_type": "code",
   "execution_count": 2,
   "metadata": {},
   "outputs": [],
   "source": [
    "import os \n",
    "os.environ['OPENAI_API_KEY']='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' \n",
    "os.environ['ELEVEN_API_KEY_API_KEY']='sk_ef5b14d52496cee66d1a26ddc023958f5a2c498ad5e1b220' \n",
    "os.environ['ACTIVELOOP_API_KEY']='eyJhbGciOiJub25lIiwidHlwIjoiSldUIn0.eyJpZCI6Im1vaGFtbWVkYXJiaW5zaWJpIiwiYXBpX2tleSI6IjhlT290RGhzNjhPQ042czRCN2IyTW51NGlqM1RaTmJ6N000UGxfLTlXWTQ5cSJ9.' "
   ]
  },
  {
   "cell_type": "code",
   "execution_count": null,
   "metadata": {},
   "outputs": [],
   "source": [
    "\n",
    "mohammedarbinsibi\n"
   ]
  },
  {
   "cell_type": "code",
   "execution_count": null,
   "metadata": {},
   "outputs": [],
   "source": [
    "import os\n",
    "import requests\n",
    "from bs4 import BeautifulSoup\n",
    "from dotenv import load_dotenv\n",
    "from langchain.embeddings.openai import OpenAIEmbeddings\n",
    "from langchain.vectorstores import DeepLake\n",
    "from langchain.text_splitter import CharacterTextSplitter\n",
    "from langchain.document_loaders import TextLoader\n",
    "import re\n",
    "\n"
   ]
  },
  {
   "cell_type": "code",
   "execution_count": null,
   "metadata": {},
   "outputs": [],
   "source": []
  },
  {
   "cell_type": "code",
   "execution_count": null,
   "metadata": {},
   "outputs": [],
   "source": []
  }
 ],
 "metadata": {
  "kernelspec": {
   "display_name": "myenv",
   "language": "python",
   "name": "python3"
  },
  "language_info": {
   "codemirror_mode": {
    "name": "ipython",
    "version": 3
   },
   "file_extension": ".py",
   "mimetype": "text/x-python",
   "name": "python",
   "nbconvert_exporter": "python",
   "pygments_lexer": "ipython3",
   "version": "3.12.1"
  }
 },
 "nbformat": 4,
 "nbformat_minor": 2
}
