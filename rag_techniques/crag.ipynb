{
 "cells": [
  {
   "cell_type": "code",
   "execution_count": 2,
   "id": "7380e8d7",
   "metadata": {},
   "outputs": [],
   "source": [
    "import sys\n",
    "sys.path.append('rag_techniques')"
   ]
  },
  {
   "cell_type": "code",
   "execution_count": 3,
   "id": "55f38256",
   "metadata": {},
   "outputs": [],
   "source": [
    "import os\n",
    "import sys\n",
    "from dotenv import load_dotenv\n",
    "from langchain.prompts import PromptTemplate\n",
    "from langchain_core.pydantic_v1 import BaseModel, Field\n",
    "\n",
    "\n",
    "# Original path append replaced for Colab compatibility\n",
    "#from helper_functions import *\n",
    "#from evaluation.evalute_rag import *\n",
    "\n",
    "# Load environment variables from a .env file\n",
    "load_dotenv()\n",
    "\n",
    "# Set the OpenAI API key environment variable\n",
    "from langchain.tools import DuckDuckGoSearchResults"
   ]
  },
  {
   "cell_type": "code",
   "execution_count": null,
   "id": "014ec2c5",
   "metadata": {},
   "outputs": [],
   "source": [
    "\n",
    "# Download required data files\n",
    "import os\n",
    "os.makedirs('data', exist_ok=True)\n",
    "\n",
    "# Download the PDF document used in this notebook\n",
    "!wget -O data/Understanding_Climate_Change.pdf https://raw.githubusercontent.com/NirDiamant/RAG_TECHNIQUES/main/data/Understanding_Climate_Change.pdf\n",
    "path = \"data/Understanding_Climate_Change.pdf\"\n"
   ]
  },
  {
   "cell_type": "code",
   "execution_count": 6,
   "id": "f7f76e9d",
   "metadata": {},
   "outputs": [
    {
     "ename": "NameError",
     "evalue": "name 'encode_pdf' is not defined",
     "output_type": "error",
     "traceback": [
      "\u001b[31m---------------------------------------------------------------------------\u001b[39m",
      "\u001b[31mNameError\u001b[39m                                 Traceback (most recent call last)",
      "\u001b[36mCell\u001b[39m\u001b[36m \u001b[39m\u001b[32mIn[6]\u001b[39m\u001b[32m, line 1\u001b[39m\n\u001b[32m----> \u001b[39m\u001b[32m1\u001b[39m vectorstore = \u001b[43mencode_pdf\u001b[49m(path)\n",
      "\u001b[31mNameError\u001b[39m: name 'encode_pdf' is not defined"
     ]
    }
   ],
   "source": [
    "vectorstore = encode_pdf(path)\n"
   ]
  },
  {
   "cell_type": "code",
   "execution_count": null,
   "id": "778b2632",
   "metadata": {},
   "outputs": [],
   "source": [
    "from langchain_groq import ChatGroq\n",
    "\n",
    "model = ChatGroq(\n",
    "    temperature=0,\n",
    "    model= \"llama-3.3-70b-versatile\", #\"llama-3.1-70b-versatile\", #\"llama3-70b-8192\",\n",
    "    api_key=\"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\",)"
   ]
  },
  {
   "cell_type": "code",
   "execution_count": null,
   "id": "aae2d7a7",
   "metadata": {},
   "outputs": [],
   "source": []
  },
  {
   "cell_type": "code",
   "execution_count": null,
   "id": "bce96779",
   "metadata": {},
   "outputs": [],
   "source": []
  }
 ],
 "metadata": {
  "kernelspec": {
   "display_name": ".venv",
   "language": "python",
   "name": "python3"
  },
  "language_info": {
   "codemirror_mode": {
    "name": "ipython",
    "version": 3
   },
   "file_extension": ".py",
   "mimetype": "text/x-python",
   "name": "python",
   "nbconvert_exporter": "python",
   "pygments_lexer": "ipython3",
   "version": "3.11.9"
  }
 },
 "nbformat": 4,
 "nbformat_minor": 5
}
